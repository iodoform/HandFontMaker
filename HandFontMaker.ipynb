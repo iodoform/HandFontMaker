{
  "cells": [
    {
      "cell_type": "markdown",
      "metadata": {
        "id": "view-in-github",
        "colab_type": "text"
      },
      "source": [
        "<a href=\"https://colab.research.google.com/github/iodoform/HandFontMaker/blob/main/HandFontMaker.ipynb\" target=\"_parent\"><img src=\"https://colab.research.google.com/assets/colab-badge.svg\" alt=\"Open In Colab\"/></a>"
      ]
    },
    {
      "cell_type": "markdown",
      "metadata": {
        "id": "xpV0snmTuGFS"
      },
      "source": [
        "# 手書きフォントメーカー\n",
        "## 概要\n",
        "タブレット等で手書きフォントが作成できるプログラム。\n",
        "## 使い方\n",
        "1. 下にあるフォント範囲選択で、フォントを作成したい文字範囲のチェックボックスを選択してください。複数選択可能。\n",
        "1. メニューから`ランタイム＞すべてのセルを実行` を選択。\n",
        "1. Google Drive のアクセスを求められるので、許可してください。\n",
        "1. しばらく待つと、一番下にフォントを書き込みUIが表示されるので、「現在の文字」と書かれている文字を手書き入力画面に書き込み、`次の文字` ボタンを押してください。これを選択文字範囲で繰り返します。\n",
        "1. 選択した文字範囲がすべて書き終わると「最後の文字です。フォント作成ボタンを押してください。」と表示されるので、指示に従い`フォント作成`ボタンを押してください。ちなみに、最後まで書かずとも、`フォント作成`ボタンを押すとその時点までのフォントファイルができます。\n",
        "1. 出来上がったフォントは`/content/drive/MyDrive/fontdir/handfont.otf`からダウンロードできます。\n",
        "\n",
        "## 備考\n",
        "- 一度フォントを作成した後も、`/content/drive/MyDrive/fontdir/svgdir`にはフォントに変換する前のsvgデータが残っているので、再度このプログラムを実行すれば追加のフォントを作成することができます。<br>（使用例：半角英数字だけ作ってあとから全角ひらがなを追加）\n",
        "- このプログラムの作者([iodoform](https://twitter.com/_iodoform_))は、他の人がこのプログラムを用いて作成したフォントに対して一切の権利を主張しません。\n",
        "\n",
        "## 謝辞\n",
        "構成コードは以下の方々のライブラリ、スニペット、コードを参考、あるいは依拠しています。 またnotebookは下記コード群のライセンスを継承します。\n",
        "- [handfontgen: Handwriting Font Generator](https://github.com/nixeneko/handfontgen.git)\n",
        "- [font-jp-subset](https://github.com/blivesta/font-jp-subset.git)\n",
        "\n",
        "## 参考ページ\n",
        "- https://nixeneko.hatenablog.com/entry/2016/02/06/114348\n",
        "- https://note.com/npaka/n/nb9d4902f8f4d\n",
        "- https://www.gradio.app/docs/interface"
      ]
    },
    {
      "cell_type": "code",
      "execution_count": null,
      "metadata": {
        "id": "vB9SGL9eWc9q"
      },
      "outputs": [],
      "source": [
        "#画像をフォントに変換するのに必要なパッケージを追加\n",
        "!apt-get update\n",
        "!apt-get install fontforge\n",
        "!apt-get install python3-fontforge\n",
        "!apt-get install potrace\n",
        "!apt-get install zbar-tools libcairo2-dev python3-numpy python3-cairosvg python3-pypdf2 python3-pip libffi-dev\n",
        "!pip3 install qrcode\n",
        "\n",
        "!git clone https://github.com/nixeneko/handfontgen.git\n",
        "%cd handfontgen/handfontgen\n",
        "# 文字範囲のサブセット\n",
        "!git clone https://github.com/blivesta/font-jp-subset.git\n",
        "# GUIに必要なパッケージを追加\n",
        "!pip install gradio\n"
      ]
    },
    {
      "cell_type": "code",
      "execution_count": null,
      "metadata": {
        "id": "956SiLCQBXNy",
        "cellView": "form"
      },
      "outputs": [],
      "source": [
        "#@markdown # フォント文字範囲選択\n",
        "# 文字範囲を指定\n",
        "#@markdown 英数字\n",
        "Alphanumeric = True #@param {type:\"boolean\"}\n",
        "#@markdown ひらがな\n",
        "Hiragana = False #@param {type:\"boolean\"}\n",
        "#@markdown カタカナ\n",
        "Katakana = False #@param {type:\"boolean\"}\n",
        "#@markdown 記号\n",
        "Kigou = False #@param {type:\"boolean\"}\n",
        "#@markdown 漢字JIS第一水準\n",
        "KanjiJIS1 = False #@param {type:\"boolean\"}\n",
        "#@markdown 全角英数字\n",
        "Zenkakueisu = False #@param {type:\"boolean\"}\n",
        "\n",
        "fontChar = \"\"\n",
        "\n",
        "if Alphanumeric == True:\n",
        "    with open(\"/content/handfontgen/handfontgen/font-jp-subset/characters/ASCII.txt\") as f:\n",
        "        fontChar+=f.read()\n",
        "if Hiragana == True:\n",
        "    with open(\"/content/handfontgen/handfontgen/font-jp-subset/characters/ひらがな.txt\") as f:\n",
        "        fontChar+=f.read()\n",
        "if Katakana == True:\n",
        "    with open(\"/content/handfontgen/handfontgen/font-jp-subset/characters/カタカナ.txt\") as f:\n",
        "        fontChar+=f.read()\n",
        "if Kigou == True:\n",
        "    with open(\"/content/handfontgen/handfontgen/font-jp-subset/characters/symbol.txt\") as f:\n",
        "        fontChar+=f.read()\n",
        "if KanjiJIS1 == True:\n",
        "    with open(\"/content/handfontgen/handfontgen/font-jp-subset/characters/漢字JIS第1水準.txt\") as f:\n",
        "        fontChar+=f.read()\n",
        "if Zenkakueisu == True:\n",
        "    with open(\"/content/handfontgen/handfontgen/font-jp-subset/characters/全角英数.txt\") as f:\n",
        "        fontChar+=f.read()"
      ]
    },
    {
      "cell_type": "code",
      "execution_count": null,
      "metadata": {
        "id": "Gj-0gE2kVZZV"
      },
      "outputs": [],
      "source": [
        "# Google Drive をマウント\n",
        "from google.colab import drive\n",
        "drive.mount('/content/drive')\n",
        "!mkdir /content/drive/MyDrive/fontdir\n",
        "!mkdir /content/drive/MyDrive/fontdir/svgdir"
      ]
    },
    {
      "cell_type": "code",
      "execution_count": null,
      "metadata": {
        "id": "LGUGw_recmOO"
      },
      "outputs": [],
      "source": [
        "import gradio as gr\n",
        "import numpy as np\n",
        "import cv2\n",
        "import subprocess\n",
        "import scanchars\n",
        "import sys, os\n",
        "import glob\n",
        "import argparse\n",
        "import slantcorrection\n",
        "import passzbar\n",
        "from tilecharbox import Rect\n",
        "from util import getgrayimage\n",
        "import passpotrace\n",
        "import fontgenfromsvg\n",
        "import unicodedata\n",
        "\n",
        "outdir = \"/content/drive/MyDrive/fontdir/svgdir\"\n",
        "destfile = \"/content/drive/MyDrive/fontdir/handfont.otf\"\n",
        "metadata = fontgenfromsvg.FontMetaData(\n",
        "            fontname=\"TekitounaTegakiFont\",\n",
        "            family=\"TekitounaTegakiFont\",\n",
        "            fullname=\"TekitounaTegakiFont\",\n",
        "            weight=\"Regular\",\n",
        "            copyrightnotice=\"\",\n",
        "            fontversion=\"0.01\",\n",
        "            familyJP=\"適当な手書きフォント\",\n",
        "            fullnameJP=\"適当な手書きフォント\",\n",
        "            ascent=860,\n",
        "            descent=140\n",
        "            )\n",
        "currentChar = fontChar[0]\n",
        "charNum = 0\n",
        "def detectresol(val):\n",
        "    x, y = val.strip().split(',')\n",
        "    xlst = x.split(':')\n",
        "    ylst = y.split(':')\n",
        "    return [list(map(int, xlst)), list(map(int, ylst))]\n",
        "# 画像をsvgに変換する関数\n",
        "def makeSVG(input_img):\n",
        "    global outdir\n",
        "    global destfile\n",
        "    global metadata\n",
        "    global currentChar\n",
        "    global charNum\n",
        "    name = \"{:04X}\".format(ord(currentChar))\n",
        "    # 半角全角判定\n",
        "    charType = unicodedata.east_asian_width(currentChar)\n",
        "    if charType in 'FWA':\n",
        "      resol=detectresol(\"5:8:5,5:8:5\")\n",
        "    else:\n",
        "      resol = detectresol(\"5:4:5,5:8:5\")\n",
        "    charNum+=1\n",
        "    try:\n",
        "        currentChar = fontChar[charNum]\n",
        "    except IndexError:\n",
        "        gr.Error(\"最後の文字です。フォント作成ボタンを押してください。\")\n",
        "    grayimg = getgrayimage(input_img)\n",
        "    ret, binimg = cv2.threshold(grayimg,0,255,cv2.THRESH_BINARY+cv2.THRESH_OTSU)\n",
        "    imgheight = 1000\n",
        "    margintop   = int(imgheight * resol[1][0] / resol[1][1]) #-h[px] * (margint[mm]/h[mm])\n",
        "    marginbottom= int(imgheight * resol[1][2] / resol[1][1]) #-h[px] * (marginb[mm]/h[mm])\n",
        "    imgwidth = int(imgheight * resol[0][1] / resol[1][1]) #h[px] * (w[mm]/h[mm])\n",
        "    marginleft  = int(imgheight * resol[0][0] / resol[1][1]) #-h[px] * (marginl[mm]/h[mm])\n",
        "    marginright = int(imgheight * resol[0][2] / resol[1][1]) #-h[px] * (marginr[mm]/h[mm])\n",
        "\n",
        "    # potrace cannot set size in px when converting to SVG.\n",
        "    # set size in pt and convert to SVG, after that, replace pt with px\n",
        "    optargs = [ \"-W%dpt\"%(imgwidth + marginleft + marginright),\n",
        "                \"-H%dpt\"%(imgheight + margintop + marginbottom),\n",
        "                \"-L%dpt\"%(- marginleft), \"-R%dpt\"%(- marginright),\n",
        "                \"-T%dpt\"%(- margintop), \"-B%dpt\"%(- marginbottom)]\n",
        "    bsvg = passpotrace.passpotrace(binimg,optargs)\n",
        "    bsvg = bsvg.replace(b\"pt\", b\"px\") # any exceptions?\n",
        "\n",
        "    #save function\n",
        "    if outdir != '' and not os.path.isdir(outdir):\n",
        "        os.makedirs(outdir)\n",
        "    scanchars.saveasfile(outdir, name, bsvg)\n",
        "    return currentChar\n",
        "# svgからフォントを生成\n",
        "def makeFont():\n",
        "    fontgenfromsvg.generatefont(destfile, metadata, outdir)\n",
        "# Blocksの作成\n",
        "with gr.Blocks() as demo:\n",
        "  output = gr.Text(label = \"現在の文字\",value = currentChar)\n",
        "  input = gr.Paint(label = \"文字入力画面\",shape=(200,200))\n",
        "  next = gr.ClearButton(input, value = \"次の文字\")\n",
        "  next.click(fn = makeSVG, inputs = input, outputs = output)\n",
        "  fontBtn = gr.Button(\"フォント作成\")\n",
        "  fontBtn.click(fn = makeFont)\n",
        "# 起動\n",
        "demo.launch(share=False)"
      ]
    }
  ],
  "metadata": {
    "colab": {
      "provenance": [],
      "authorship_tag": "ABX9TyPwX5LgUVsr49WRxG97hKGR",
      "include_colab_link": true
    },
    "kernelspec": {
      "display_name": "Python 3",
      "name": "python3"
    },
    "language_info": {
      "name": "python"
    }
  },
  "nbformat": 4,
  "nbformat_minor": 0
}